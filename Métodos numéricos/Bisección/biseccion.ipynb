{
 "cells": [
  {
   "cell_type": "markdown",
   "metadata": {},
   "source": [
    "# Método de Bisección"
   ]
  },
  {
   "cell_type": "markdown",
   "metadata": {},
   "source": [
    "## Importar bibliotecas\n",
    "\n",
    "Usamos la biblioteca **pandas** para mostrar resultados en tablas.\n",
    "\n",
    "Usamos **matplotlib** para mostrar función en grafico.\n",
    "\n",
    "**Numpy** para guardar los arreglos numéricos.\n",
    "\n",
    "**Math** para tener mas variedad de operaciones para utilizar en la función."
   ]
  },
  {
   "cell_type": "code",
   "execution_count": 1,
   "metadata": {},
   "outputs": [],
   "source": [
    "import pandas as pd\n",
    "import numpy as np\n",
    "import matplotlib.pyplot as plt\n",
    "import math"
   ]
  },
  {
   "cell_type": "markdown",
   "metadata": {},
   "source": [
    "## Definir función"
   ]
  },
  {
   "cell_type": "code",
   "execution_count": 2,
   "metadata": {},
   "outputs": [],
   "source": [
    "def funcion(x:float):\n",
    "    return (667.38 / x) * (1 - math.exp(-.146843*x)) - 40"
   ]
  },
  {
   "cell_type": "markdown",
   "metadata": {},
   "source": [
    "## Definir valores iniciales"
   ]
  },
  {
   "cell_type": "code",
   "execution_count": 3,
   "metadata": {},
   "outputs": [],
   "source": [
    "# valor inferior\n",
    "xl = 12\n",
    "\n",
    "# valor superior\n",
    "xu = 16\n",
    "\n",
    "# error minimo deseado\n",
    "err_des = 5.3"
   ]
  },
  {
   "cell_type": "markdown",
   "metadata": {},
   "source": [
    "## Ejecucion del algoritmo"
   ]
  },
  {
   "cell_type": "code",
   "execution_count": 4,
   "metadata": {},
   "outputs": [
    {
     "name": "stdout",
     "output_type": "stream",
     "text": [
      "6.066949962931268\n"
     ]
    }
   ],
   "source": [
    "# listas iniciadas\n",
    "lista_xl = [xl]\n",
    "lista_xu = [xu]\n",
    "lista_xr = []\n",
    "lista_err = []\n",
    "\n",
    "# valores iniciales por defecto o derivados de xl y xu\n",
    "err_act = 100\n",
    "salir = False\n",
    "\n",
    "while (err_act > err_des) and (salir == False):\n",
    "    xr = (xu + xl) / 2\n",
    "    \n",
    "    if funcion(xl) * funcion(xu) > 0:\n",
    "        print('Los valores de x devuelven valores del mismo signo en la funcion')\n",
    "        salir = True\n",
    "    elif funcion(xr) * funcion(xl) < 0:\n",
    "        xu = xr\n",
    "    elif funcion(xr) * funcion(xu) < 0:\n",
    "        xl = xr\n",
    "    elif funcion(xu) == 0:\n",
    "        print('La raiz es x = ', xu)\n",
    "        salir = True\n",
    "    elif funcion(xl) == 0:\n",
    "        print('La raiz es x = ', xl)\n",
    "        salir = True\n",
    "    "
   ]
  }
 ],
 "metadata": {
  "kernelspec": {
   "display_name": ".venv",
   "language": "python",
   "name": "python3"
  },
  "language_info": {
   "codemirror_mode": {
    "name": "ipython",
    "version": 3
   },
   "file_extension": ".py",
   "mimetype": "text/x-python",
   "name": "python",
   "nbconvert_exporter": "python",
   "pygments_lexer": "ipython3",
   "version": "3.12.5"
  }
 },
 "nbformat": 4,
 "nbformat_minor": 2
}
