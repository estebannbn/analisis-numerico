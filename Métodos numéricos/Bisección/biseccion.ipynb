{
 "cells": [
  {
   "cell_type": "markdown",
   "metadata": {},
   "source": [
    "# Método de Bisección"
   ]
  },
  {
   "cell_type": "markdown",
   "metadata": {},
   "source": [
    "## Importar bibliotecas\n",
    "\n",
    "Usamos la biblioteca **pandas** para mostrar resultados en tablas.\n",
    "\n",
    "**Math** para tener mas variedad de operaciones para utilizar en la función."
   ]
  },
  {
   "cell_type": "code",
   "execution_count": 10,
   "metadata": {},
   "outputs": [],
   "source": [
    "import pandas as pd\n",
    "import math"
   ]
  },
  {
   "cell_type": "markdown",
   "metadata": {},
   "source": [
    "## Definir función"
   ]
  },
  {
   "cell_type": "code",
   "execution_count": 11,
   "metadata": {},
   "outputs": [],
   "source": [
    "def funcion(x:float):\n",
    "    return (667.38 / x) * (1 - math.exp(-.146843*x)) - 40"
   ]
  },
  {
   "cell_type": "markdown",
   "metadata": {},
   "source": [
    "## Definir valores iniciales\n",
    "\n",
    "⚠ PROBLEMA A RESOLVER ⚠\n",
    "\n",
    "Por ahora, el programa iterará hasta un valor previo al del error deseado."
   ]
  },
  {
   "cell_type": "code",
   "execution_count": 28,
   "metadata": {},
   "outputs": [],
   "source": [
    "# valor inferior\n",
    "xl = 12\n",
    "\n",
    "# valor superior\n",
    "xu = 16\n",
    "\n",
    "# error minimo deseado\n",
    "err_des = 0.7"
   ]
  },
  {
   "cell_type": "markdown",
   "metadata": {},
   "source": [
    "## Ejecucion del algoritmo"
   ]
  },
  {
   "cell_type": "code",
   "execution_count": 29,
   "metadata": {},
   "outputs": [
    {
     "name": "stdout",
     "output_type": "stream",
     "text": [
      "      xl      xu       xr     f(xl)     f(xr)  error aprox\n",
      "0  12.00  16.000  14.0000  6.066950  1.568710   100.000000\n",
      "1  14.00  16.000  15.0000  1.568710 -0.424832    14.285714\n",
      "2  14.00  15.000  14.5000  1.568710  0.552328     6.666667\n",
      "3  14.50  15.000  14.7500  0.552328  0.058963     3.448276\n",
      "4  14.75  15.000  14.8750  0.058963 -0.184117     1.694915\n",
      "5  14.75  14.875  14.8125  0.058963 -0.062874     0.840336\n"
     ]
    }
   ],
   "source": [
    "# listas iniciadas\n",
    "lista_xl = []\n",
    "lista_xu = []\n",
    "lista_xr = []\n",
    "lista_err = []\n",
    "lista_funcion_xr = []\n",
    "lista_funcion_xl = []\n",
    "\n",
    "# valores iniciales por defecto o derivados de xl y xu\n",
    "err_act = 100\n",
    "salir = False\n",
    "\n",
    "while (err_act > err_des) and (salir == False) and (err_des > 0):\n",
    "    # calculamos el actual xr\n",
    "    xr = (xu + xl) / 2\n",
    "    # agregamos valores a las listas\n",
    "    lista_xr.append(xr)\n",
    "    lista_xu.append(xu)\n",
    "    lista_xl.append(xl)\n",
    "    lista_funcion_xr.append(funcion(xr))\n",
    "    lista_funcion_xl.append(funcion(xl))\n",
    "    lista_err.append(err_act)\n",
    "\n",
    "    if funcion(xl) * funcion(xu) > 0:\n",
    "        print('Los valores de x devuelven valores del mismo signo en la funcion')\n",
    "        salir = True\n",
    "    elif funcion(xr) * funcion(xl) < 0:\n",
    "        err_act = 100 * (xr - xu) / xr\n",
    "        xu = xr\n",
    "    elif funcion(xr) * funcion(xu) < 0:\n",
    "        err_act = 100 * (xr - xl) / xr\n",
    "        xl = xr\n",
    "    elif funcion(xu) == 0:\n",
    "        print('La raiz es x = ', xu)\n",
    "        err_act = 0\n",
    "    elif funcion(xl) == 0:\n",
    "        print('La raiz es x = ', xl)\n",
    "        err_act = 0\n",
    "    \n",
    "    # le asignamos valor absoluto al error para que no entren valores negativos y frenen el programa\n",
    "    err_act = math.fabs(err_act)\n",
    "\n",
    "if err_des <= 0:\n",
    "    print('El error deseado es menor o igual a 0, no se puede iterar')\n",
    "    \n",
    "df = pd.DataFrame({\n",
    "    'xl': lista_xl,\n",
    "    'xu': lista_xu,\n",
    "    'xr': lista_xr,\n",
    "    'f(xl)': lista_funcion_xl,\n",
    "    'f(xr)': lista_funcion_xr,\n",
    "    'error aprox': lista_err\n",
    "})\n",
    "print(df)"
   ]
  }
 ],
 "metadata": {
  "kernelspec": {
   "display_name": ".venv",
   "language": "python",
   "name": "python3"
  },
  "language_info": {
   "codemirror_mode": {
    "name": "ipython",
    "version": 3
   },
   "file_extension": ".py",
   "mimetype": "text/x-python",
   "name": "python",
   "nbconvert_exporter": "python",
   "pygments_lexer": "ipython3",
   "version": "3.12.5"
  }
 },
 "nbformat": 4,
 "nbformat_minor": 2
}
