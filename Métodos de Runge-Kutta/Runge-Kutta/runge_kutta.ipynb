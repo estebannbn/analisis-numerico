{
 "cells": [
  {
   "cell_type": "markdown",
   "metadata": {},
   "source": [
    "# Metodo Runge-Kutta"
   ]
  },
  {
   "cell_type": "markdown",
   "metadata": {},
   "source": [
    "## Iniciar paquetes del programa\n",
    "\n",
    "Usamos la biblioteca **pandas** para mostrar resultados en tablas.\n",
    "\n",
    "Usamos **matplotlib** para mostrar funcion en grafico.\n",
    "\n",
    "**Numpy** para guardar los arreglos numericos.\n",
    "\n",
    "**Math** para disponer de más operaciones."
   ]
  },
  {
   "cell_type": "code",
   "execution_count": 13,
   "metadata": {},
   "outputs": [],
   "source": [
    "import pandas as pd\n",
    "import numpy as np\n",
    "import matplotlib.pyplot as plt\n",
    "import math"
   ]
  },
  {
   "cell_type": "markdown",
   "metadata": {},
   "source": [
    "## Definir función diferencial\n",
    "\n",
    "Definimos la función diferencial que aproximaremos mediante el método. Usamos parametros **x** e **y**.\n",
    "\n",
    "\n",
    "⚠ **IMPORTANTE** ⚠:\n",
    "\n",
    "Si la funcion que vamos a aproximar no contiene parametro **y**, lo recomendable es darle valor aleatorio en el algoritmo.\n",
    "\n",
    "En este caso, la función por defecto utiliza parametro **y**"
   ]
  },
  {
   "cell_type": "code",
   "execution_count": 14,
   "metadata": {},
   "outputs": [],
   "source": [
    "def funcion(x:float, y:float):\n",
    "    return (math.sqrt(y) * x)"
   ]
  },
  {
   "cell_type": "markdown",
   "metadata": {},
   "source": [
    "## Asignar valores iniciales\n",
    "Asignamos el valor de h (diferencial de x), y valores iniciales de x e y.\n",
    "\n",
    "También hay que asignar la cantidad de iteraciones que queremos."
   ]
  },
  {
   "cell_type": "code",
   "execution_count": 15,
   "metadata": {},
   "outputs": [],
   "source": [
    "# Iteraciones:\n",
    "i = 5\n",
    "\n",
    "# Diferencial de x\n",
    "h = .2\n",
    "\n",
    "# X e Y iniciales:\n",
    "x0 = 1\n",
    "y0 = 4"
   ]
  },
  {
   "cell_type": "markdown",
   "metadata": {},
   "source": [
    "## Ejecución del algoritmo"
   ]
  },
  {
   "cell_type": "code",
   "execution_count": 25,
   "metadata": {},
   "outputs": [
    {
     "name": "stdout",
     "output_type": "stream",
     "text": [
      "    xi     k1     k2     k3     k4     yi  error aprox\n",
      "0  1.0  2.000  2.254  2.261  2.532  4.000        0.000\n",
      "1  1.2  2.532  2.820  2.829  3.136  4.452       10.155\n",
      "2  1.4  3.136  3.463  3.474  3.824  5.018       11.270\n",
      "3  1.6  3.824  4.197  4.210  4.608  5.712       12.158\n",
      "4  1.8  1.800  1.800  1.800  1.800  6.554       12.840\n"
     ]
    }
   ],
   "source": [
    "# Listas para utilizar en dataframe y grafico\n",
    "\n",
    "# La lista x_i contiene todos los x_i a usar, desde antes de comenzar a iterar\n",
    "# Los obtenemos a partir del metodo linspace de numpy\n",
    "# Los parametros son: np.linspace(inicio,fin,cantidad_de_valores)\n",
    "# El parametro *fin* se incluye en el arreglo\n",
    "x_i = np.linspace(x0,x0 + i*h,h)\n",
    "\n",
    "# MUCHO CUIDADO: creamos un np array \"empty\", que en realidad contiene numeros aleatorios\n",
    "# Hay que asegurarse de sobreescribir todos durante la iteracion\n",
    "y_i = np.empty(i)\n",
    "\n",
    "# Mismo tipo de arreglo para cada k\n",
    "k_1 = np.empty(i)\n",
    "k_2 = np.empty(i)\n",
    "k_3 = np.empty(i)\n",
    "k_4 = np.empty(i)\n",
    "\n",
    "# Arreglo de error aproximado (lleno de ceros al principio)\n",
    "error = np.zeros(i)\n",
    "\n",
    "\n",
    "# Metemos los primeros valores en los arreglos x_i e y_i\n",
    "x_i[0] = x0\n",
    "y_i[0] = y0\n",
    "\n",
    "# ------------------------------------------------------------------------\n",
    "\n",
    "# Iteraciones\n",
    "\n",
    "for n in range(i-1):\n",
    "    k_1[n] = funcion(x_i[n],y_i[n])\n",
    "    k_2[n] = funcion(x_i[n] + h / 2, y_i[n] + h * k_1[n] / 2)\n",
    "    k_3[n] = funcion(x_i[n] + h / 2, y_i[n] + h * k_2[n] / 2)\n",
    "    k_4[n] = funcion(x_i[n] + h, y_i[n] + h * k_3[n])\n",
    "    y_i[n+1] = y_i[n] + 1/6 * (k_1[n] + 2*k_2[n] + 2*k_3[n] + k_4[n]) * h\n",
    "    error[n+1] = math.fabs(100 * ( y_i[n+1] - y_i[n] ) / y_i[n+1])\n",
    "\n",
    "\n",
    "\n",
    "# Inicializamos el dataframe que llenaremos con datos de la iteracion\n",
    "# El metodo np.around redondea a la cantidad de decimales del segundo parametro\n",
    "df = pd.DataFrame({\n",
    "    'xi' : np.around(x_i,3),\n",
    "    'k1' : np.around(k_1,3),\n",
    "    'k2' : np.around(k_2,3),\n",
    "    'k3' : np.around(k_3,3),\n",
    "    'k4' : np.around(k_4,3),\n",
    "    'yi' : np.around(y_i,3),\n",
    "    'error aprox' : np.around(error,3)\n",
    "})\n",
    "print(df)\n"
   ]
  },
  {
   "cell_type": "markdown",
   "metadata": {},
   "source": [
    "## Mostramos gráfico 📈\n",
    "Ejecutar el codigo para ver gráficamente el resultado"
   ]
  },
  {
   "cell_type": "code",
   "execution_count": 22,
   "metadata": {},
   "outputs": [
    {
     "data": {
      "text/plain": [
       "[<matplotlib.lines.Line2D at 0x1412107eba0>]"
      ]
     },
     "execution_count": 22,
     "metadata": {},
     "output_type": "execute_result"
    },
    {
     "data": {
      "image/png": "[encoded data removed]",
      "text/plain": [
       "<Figure size 640x480 with 1 Axes>"
      ]
     },
     "metadata": {},
     "output_type": "display_data"
    }
   ],
   "source": [
    "plt.title('Metodo de R-K')\n",
    "plt.xlabel('x')\n",
    "plt.ylabel('y')\n",
    "\n",
    "## Puntos\n",
    "plt.scatter(x_i,y_i)\n",
    "# Union de los puntos\n",
    "plt.plot(x_i,y_i,'s--b')"
   ]
  }
 ],
 "metadata": {
  "kernelspec": {
   "display_name": ".venv",
   "language": "python",
   "name": "python3"
  },
  "language_info": {
   "codemirror_mode": {
    "name": "ipython",
    "version": 3
   },
   "file_extension": ".py",
   "mimetype": "text/x-python",
   "name": "python",
   "nbconvert_exporter": "python",
   "pygments_lexer": "ipython3",
   "version": "3.12.5"
  }
 },
 "nbformat": 4,
 "nbformat_minor": 2
}
