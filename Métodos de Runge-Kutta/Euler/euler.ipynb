{
 "cells": [
  {
   "cell_type": "markdown",
   "metadata": {},
   "source": [
    "# Metodo de Euler"
   ]
  },
  {
   "cell_type": "markdown",
   "metadata": {},
   "source": [
    "## Iniciar paquetes del programa\n",
    "Usamos la biblioteca **pandas** para mostrar resultados en tablas.\n",
    "\n",
    "Usamos **matplotlib** para mostrar función en grafico.\n",
    "\n",
    "**Numpy** para guardar los arreglos numéricos.\n",
    "\n",
    "**Math** para tener mas variedad de operaciones para utilizar en la función."
   ]
  },
  {
   "cell_type": "code",
   "execution_count": 1,
   "metadata": {},
   "outputs": [],
   "source": [
    "import pandas as pd\n",
    "import numpy as np\n",
    "import matplotlib.pyplot as plt\n",
    "import math"
   ]
  },
  {
   "cell_type": "markdown",
   "metadata": {},
   "source": [
    "## Definir función diferencial\n",
    "Definimos las operaciones de la función diferencial en cuestión.\n",
    "\n",
    "\n",
    "\n",
    "⚠**IMPORTANTE** ⚠:\n",
    "\n",
    "Si la funcion que vamos a aproximar no contiene parametro **y**, la opcion recomendada es darle valor aleatorio en el algoritmo (ya viene así por defecto).\n"
   ]
  },
  {
   "cell_type": "code",
   "execution_count": 2,
   "metadata": {},
   "outputs": [],
   "source": [
    "def funcion(x:float,y:float):\n",
    "    return 2*x"
   ]
  },
  {
   "cell_type": "markdown",
   "metadata": {},
   "source": [
    "## Asignar valores iniciales\n",
    "Asignamos el valor de h (diferencial de x), y valores iniciales de x e y.\n",
    "\n",
    "También hay que asignar la cantidad de iteraciones que queremos."
   ]
  },
  {
   "cell_type": "code",
   "execution_count": 11,
   "metadata": {},
   "outputs": [],
   "source": [
    "# Iteraciones:\n",
    "i = 5\n",
    "\n",
    "# Diferencial de x\n",
    "h = .1\n",
    "\n",
    "# X e Y iniciales:\n",
    "x0 = 0\n",
    "y0 = 0"
   ]
  },
  {
   "cell_type": "markdown",
   "metadata": {},
   "source": [
    "## Ejecución del algoritmo"
   ]
  },
  {
   "cell_type": "code",
   "execution_count": 13,
   "metadata": {},
   "outputs": [
    {
     "name": "stdout",
     "output_type": "stream",
     "text": [
      "       x      y  error aprox\n",
      "0  0.000  0.000        0.000\n",
      "1  0.125  0.025      100.000\n",
      "2  0.250  0.075       66.667\n",
      "3  0.375  0.150       50.000\n",
      "4  0.500  0.250       40.000\n"
     ]
    }
   ],
   "source": [
    "# Definimos yi (yi-1 segun la notacion) para la funcion general\n",
    "yi = y0\n",
    "\n",
    "\n",
    "# --------------------------------------------------------------\n",
    "\n",
    "\n",
    "# Listas para utilizar en dataframe y grafico\n",
    "\n",
    "# La lista x_i contiene todos los x_i a usar, desde antes de comenzar a iterar\n",
    "# Los obtenemos a partir del metodo linspace de numpy\n",
    "# Los parametros son: np.linspace(inicio,fin,cantidad_de_valores)\n",
    "# El parametro *fin* se incluye en el arreglo\n",
    "x_i = np.linspace(x0,x0 + i*h,i)\n",
    "\n",
    "# MUCHO CUIDADO: creamos un np array \"empty\", que en realidad contiene numeros aleatorios\n",
    "# Hay que asegurarse de sobreescribir todos durante la iteracion\n",
    "y_i = np.empty(i)\n",
    "\n",
    "\n",
    "# Arreglo de error aproximado (lleno de ceros al principio)\n",
    "error = np.zeros(i)\n",
    "\n",
    "\n",
    "# ---------------------------------------------------------------------\n",
    "\n",
    "\n",
    "# Iteraciones\n",
    "\n",
    "for n in range(i):\n",
    "    \n",
    "    # Usamos la funcion general\n",
    "    y_i[n] = yi + h * funcion(x_i[n],0)\n",
    "\n",
    "    # Asignamos el error aproximado\n",
    "    if n > 0:\n",
    "        # math.fabs para sacar valor absoluto\n",
    "        error[n] = math.fabs(100 * (y_i[n] - y_i[n-1]) / y_i[n])\n",
    "    # Reasignamos el proximo valor yi (o yi-1 segun la notacion)\n",
    "    yi = y_i[n]\n",
    "\n",
    "\n",
    "# Inicializamos el dataframe que llenaremos con datos de la iteracion\n",
    "# El metodo np.around redondea los decimales al valor del segundo parametro\n",
    "df = pd.DataFrame({\n",
    "    'x': np.around(x_i,3),\n",
    "    'y': np.around(y_i,3),\n",
    "    'error aprox': np.around(error,3)\n",
    "})\n",
    "\n",
    "# Mostramos resultado\n",
    "print(df)"
   ]
  },
  {
   "cell_type": "markdown",
   "metadata": {},
   "source": [
    "## Mostramos gráfico 📈\n",
    "Ejecutar el codigo para ver gráficamente el resultado"
   ]
  },
  {
   "cell_type": "code",
   "execution_count": 14,
   "metadata": {},
   "outputs": [
    {
     "data": {
      "text/plain": [
       "[<matplotlib.lines.Line2D at 0x26d8a97c590>]"
      ]
     },
     "execution_count": 14,
     "metadata": {},
     "output_type": "execute_result"
    },
    {
     "data": {
      "image/png": "[encoded data removed]",
      "text/plain": [
       "<Figure size 640x480 with 1 Axes>"
      ]
     },
     "metadata": {},
     "output_type": "display_data"
    }
   ],
   "source": [
    "plt.title('Metodo de euler')\n",
    "plt.xlabel('x')\n",
    "plt.ylabel('y')\n",
    "\n",
    "## Puntos\n",
    "plt.scatter(x_i,y_i)\n",
    "# Union de los puntos\n",
    "plt.plot(x_i,y_i,'s--b')\n",
    "\n",
    "\n",
    "\n",
    "# En este caso, se puede comparar la grafica de la aproximacion \n",
    "# con la grafica de la funcion primitiva si es facil de resolver.\n",
    "# Si ese es el caso, quitarle el comentario a la linea de abajo, e ingresar en el\n",
    "# segundo parametro la funcion en cuestion, que por defecto es x_i**2\n",
    "\n",
    "plt.plot(x_i,x_i**2)"
   ]
  }
 ],
 "metadata": {
  "kernelspec": {
   "display_name": "Python 3",
   "language": "python",
   "name": "python3"
  },
  "language_info": {
   "codemirror_mode": {
    "name": "ipython",
    "version": 3
   },
   "file_extension": ".py",
   "mimetype": "text/x-python",
   "name": "python",
   "nbconvert_exporter": "python",
   "pygments_lexer": "ipython3",
   "version": "3.12.5"
  }
 },
 "nbformat": 4,
 "nbformat_minor": 2
}
