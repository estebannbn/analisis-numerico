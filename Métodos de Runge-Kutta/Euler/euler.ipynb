{
 "cells": [
  {
   "cell_type": "markdown",
   "metadata": {},
   "source": [
    "# Metodo de Euler"
   ]
  },
  {
   "cell_type": "markdown",
   "metadata": {},
   "source": [
    "## Iniciar paquetes del programa\n",
    "Usamos la biblioteca **pandas** para mostrar resultados en tablas.\n",
    "\n",
    "Usamos **matplotlib** para mostrar funcion en grafico.\n",
    "\n",
    "**Numpy** para guardar los arreglos numericos."
   ]
  },
  {
   "cell_type": "code",
   "execution_count": 1,
   "metadata": {},
   "outputs": [],
   "source": [
    "import pandas as pd\n",
    "import numpy as np\n",
    "import matplotlib.pyplot as plt"
   ]
  },
  {
   "cell_type": "markdown",
   "metadata": {},
   "source": [
    "## Definir función diferencial\n",
    "Definimos las operaciones de la función diferencial en cuestión.\n",
    "\n",
    "Por defecto está puesta la función 2x, que es derivada de x^2.\n"
   ]
  },
  {
   "cell_type": "code",
   "execution_count": 2,
   "metadata": {},
   "outputs": [],
   "source": [
    "def funcion(x:float):\n",
    "    return 2*x"
   ]
  },
  {
   "cell_type": "markdown",
   "metadata": {},
   "source": [
    "## Asignar valores iniciales\n",
    "Asignamos el valor de h (diferencial de x), y valores iniciales de x e y.\n",
    "\n",
    "También hay que asignar la cantidad de iteraciones que queremos."
   ]
  },
  {
   "cell_type": "code",
   "execution_count": 12,
   "metadata": {},
   "outputs": [],
   "source": [
    "# Iteraciones:\n",
    "i = 15\n",
    "\n",
    "# Diferencial de x\n",
    "h = .3\n",
    "\n",
    "# X e Y iniciales:\n",
    "x0 = 0\n",
    "y0 = 0"
   ]
  },
  {
   "cell_type": "markdown",
   "metadata": {},
   "source": [
    "## Ejecución del algoritmo"
   ]
  },
  {
   "cell_type": "code",
   "execution_count": 13,
   "metadata": {},
   "outputs": [
    {
     "name": "stdout",
     "output_type": "stream",
     "text": [
      "      x      y  error aprox\n",
      "0   0.0   0.00     0.000000\n",
      "1   0.3   0.18   100.000000\n",
      "2   0.6   0.54    66.666667\n",
      "3   0.9   1.08    50.000000\n",
      "4   1.2   1.80    40.000000\n",
      "5   1.5   2.70    33.333333\n",
      "6   1.8   3.78    28.571429\n",
      "7   2.1   5.04    25.000000\n",
      "8   2.4   6.48    22.222222\n",
      "9   2.7   8.10    20.000000\n",
      "10  3.0   9.90    18.181818\n",
      "11  3.3  11.88    16.666667\n",
      "12  3.6  14.04    15.384615\n",
      "13  3.9  16.38    14.285714\n",
      "14  4.2  18.90    13.333333\n"
     ]
    }
   ],
   "source": [
    "# Definimos yi (yi-1 segun la notacion) para la funcion general\n",
    "yi = funcion(x0)\n",
    "\n",
    "\n",
    "# --------------------------------------------------------------\n",
    "\n",
    "\n",
    "# Listas para utilizar en dataframe y grafico\n",
    "\n",
    "# La lista xi contiene todos los xi a usar, desde antes de comenzar a iterar\n",
    "# Los obtenemos a partir del metodo arange de numpy\n",
    "xi = np.arange(x0,x0 + i*h,h)\n",
    "\n",
    "# MUCHO CUIDADO: creamos un np array \"empty\", que en realidad contiene numeros aleatorios\n",
    "# Hay que asegurarse de sobreescribir todos durante la iteracion\n",
    "lista_y = np.empty(i)\n",
    "# Este metodo redondea sus valores a 2 decimales\n",
    "np.around(lista_y,2)\n",
    "# Lo hacemos tambien con xi por un error\n",
    "np.around(xi,2)\n",
    "\n",
    "# Error aproximado\n",
    "error = np.zeros(i)\n",
    "\n",
    "\n",
    "# ---------------------------------------------------------------------\n",
    "\n",
    "\n",
    "# Iteracion\n",
    "\n",
    "for n in range(i):\n",
    "    \n",
    "    # Usamos la funcion general\n",
    "    lista_y[n] = yi + h * funcion(xi[n])\n",
    "\n",
    "    # Asignamos el error aproximado\n",
    "    if n > 0:\n",
    "        error[n] = 100 * (lista_y[n] - lista_y[n-1]) / lista_y[n]\n",
    "    # Reasignamos el proximo valor yi (o yi-1 segun la notacion)\n",
    "    yi = lista_y[n]\n",
    "\n",
    "np.around(error,2)\n",
    "\n",
    "# Inicializamos el dataframe que llenaremos con datos de la iteracion\n",
    "df = pd.DataFrame({\n",
    "    'x': xi,\n",
    "    'y': lista_y,\n",
    "    'error aprox': error\n",
    "})\n",
    "\n",
    "# Mostramos resultado\n",
    "print(df)"
   ]
  },
  {
   "cell_type": "markdown",
   "metadata": {},
   "source": [
    "## Mostramos gráfico\n",
    "Simplemente ejecutar el codigo para ver gráficamente el resultado"
   ]
  },
  {
   "cell_type": "code",
   "execution_count": 14,
   "metadata": {},
   "outputs": [
    {
     "data": {
      "text/plain": [
       "[<matplotlib.lines.Line2D at 0x15c380ba660>]"
      ]
     },
     "execution_count": 14,
     "metadata": {},
     "output_type": "execute_result"
    },
    {
     "data": {
      "image/png": "[encoded data removed]",
      "text/plain": [
       "<Figure size 640x480 with 1 Axes>"
      ]
     },
     "metadata": {},
     "output_type": "display_data"
    }
   ],
   "source": [
    "plt.title('Metodo de euler')\n",
    "plt.xlabel('x')\n",
    "plt.ylabel('y')\n",
    "\n",
    "## Puntos\n",
    "plt.scatter(xi,lista_y)\n",
    "# Union de los puntos\n",
    "plt.plot(xi,lista_y,'s--b')\n",
    "plt.plot(xi,xi**2)"
   ]
  }
 ],
 "metadata": {
  "kernelspec": {
   "display_name": "Python 3",
   "language": "python",
   "name": "python3"
  },
  "language_info": {
   "codemirror_mode": {
    "name": "ipython",
    "version": 3
   },
   "file_extension": ".py",
   "mimetype": "text/x-python",
   "name": "python",
   "nbconvert_exporter": "python",
   "pygments_lexer": "ipython3",
   "version": "3.12.5"
  }
 },
 "nbformat": 4,
 "nbformat_minor": 2
}
