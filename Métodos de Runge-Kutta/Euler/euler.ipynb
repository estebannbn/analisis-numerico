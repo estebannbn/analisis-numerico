{
 "cells": [
  {
   "cell_type": "markdown",
   "metadata": {},
   "source": [
    "# Metodo de Euler"
   ]
  },
  {
   "cell_type": "markdown",
   "metadata": {},
   "source": [
    "## Iniciar paquetes del programa\n",
    "Usamos la biblioteca **pandas** para mostrar resultados en tablas.\n",
    "\n",
    "Usamos **matplotlib** para mostrar funcion en grafico."
   ]
  },
  {
   "cell_type": "code",
   "execution_count": 6,
   "metadata": {},
   "outputs": [],
   "source": [
    "import pandas\n",
    "import numpy as np\n",
    "import matplotlib.pyplot as plt"
   ]
  },
  {
   "cell_type": "markdown",
   "metadata": {},
   "source": [
    "## Definir funcion diferencial\n",
    "Definimos las operaciones de la funcion diferencial en cuestion"
   ]
  },
  {
   "cell_type": "code",
   "execution_count": 13,
   "metadata": {},
   "outputs": [],
   "source": [
    "def funcion(x:float):\n",
    "    return 2*x"
   ]
  },
  {
   "cell_type": "markdown",
   "metadata": {},
   "source": [
    "## Asignar valores iniciales\n",
    "Asignamos el valor de h (diferencial de x), y valores iniciales de x e y.\n",
    "\n",
    "Tambien hay que asignar la cantidad de iteraciones que queremos."
   ]
  },
  {
   "cell_type": "code",
   "execution_count": 41,
   "metadata": {},
   "outputs": [],
   "source": [
    "# Iteraciones:\n",
    "i = 5\n",
    "\n",
    "# Diferencial de x\n",
    "h = .1\n",
    "\n",
    "# X e Y iniciales:\n",
    "x0 = 0\n",
    "y0 = 0"
   ]
  },
  {
   "cell_type": "markdown",
   "metadata": {},
   "source": [
    "## Ejecucion del algoritmo"
   ]
  },
  {
   "cell_type": "code",
   "execution_count": 43,
   "metadata": {},
   "outputs": [
    {
     "name": "stdout",
     "output_type": "stream",
     "text": [
      "iteracion  0 : y( 0.0 ) =  0.0\n",
      "iteracion  1 : y( 0.1 ) =  0.02\n",
      "iteracion  2 : y( 0.2 ) =  0.06\n",
      "iteracion  3 : y( 0.30000000000000004 ) =  0.12\n",
      "iteracion  4 : y( 0.4 ) =  0.2\n",
      "lista x:  [0.  0.1 0.2 0.3 0.4]\n"
     ]
    }
   ],
   "source": [
    "# Definimos yi (yi-1 segun la notacion) para la funcion general\n",
    "yi = funcion(x0)\n",
    "\n",
    "\n",
    "# --------------------------------------------------------------\n",
    "\n",
    "\n",
    "# Listas para utilizar en dataframe y grafico\n",
    "\n",
    "# La lista xi contiene todos los xi a usar, desde antes de comenzar a iterar\n",
    "# Los obtenemos a partir del metodo arange de numpy\n",
    "xi = np.arange(x0,x0 + i*h,h)\n",
    "\n",
    "# MUCHO CUIDADO: creamos un np array \"empty\", que en realidad contiene numeros aleatorios\n",
    "# Hay que asegurarse de sobreescribir todos durante la iteracion\n",
    "lista_y = np.empty(i+1)\n",
    "\n",
    "\n",
    "# ---------------------------------------------------------------------\n",
    "\n",
    "\n",
    "# Iteracion\n",
    "\n",
    "for n in range(i):\n",
    "    \n",
    "    # Usamos la funcion general\n",
    "    lista_y[n] = yi + h * funcion(xi[n])\n",
    "\n",
    "    # Reasignamos el proximo valor yi (o yi-1 segun la notacion)\n",
    "    yi = lista_y[n]\n",
    "    \n",
    "    # Mostramos resultado\n",
    "    print('iteracion ', n, ': y(', xi[n], ') = ', round(lista_y[n],3))\n",
    "\n",
    "print('lista x: ', lista_x)"
   ]
  }
 ],
 "metadata": {
  "kernelspec": {
   "display_name": "Python 3",
   "language": "python",
   "name": "python3"
  },
  "language_info": {
   "codemirror_mode": {
    "name": "ipython",
    "version": 3
   },
   "file_extension": ".py",
   "mimetype": "text/x-python",
   "name": "python",
   "nbconvert_exporter": "python",
   "pygments_lexer": "ipython3",
   "version": "3.12.5"
  }
 },
 "nbformat": 4,
 "nbformat_minor": 2
}
